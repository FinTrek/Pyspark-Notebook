{
 "cells": [
  {
   "cell_type": "markdown",
   "metadata": {},
   "source": [
    "#  Extracting, transforming and selecting features\n",
    "\n",
    "This section covers algorithms for working with features, roughly divided into these groups:\n",
    "\n",
    "* Extraction: Extracting features from \"raw\" data\n",
    "* Transformation: Scaling, converting, or modifying features\n",
    "* Selection: Selecting a subset from a larger set of features\n",
    "\n",
    "# Feature Extractors\n",
    "\n",
    "## TF-IDF\n",
    "\n",
    "Term frequency-inverse document frequency (TF-IDF) is a feature vectorization method widely used in text mining to reflect the importance of a term to a document in the corpus. Denote a term by t, a document by d, and the corpus by D. Term frequency TF(t, d) is the number of times that term t appears in document d, while document frequency DF(t, D) is the number of documents that contains term t. If we only use term frequency to measure the importance, it is very easy to over-emphasize terms that appear very often but carry little information about the document, e.g. \"a\", \"the\", and \"of\". If a term appears very often across the corpus, it means it doesn't carry special information about a particular document. Inverse document frequency is a numerical measure of how much information a term provides:\n",
    "\n",
    "![](3.attach_files/IDF.png)\n",
    "\n",
    "where |D| is the total number of documents in the corpus. Since logarithm is used, if a term appears in all documents, its IDF value become 0. Note that a smoothing term is applied to avoid dividing by zero for terms outside the corpus. The TF-IDF measure is simply the product of TF and IDF:\n",
    "\n",
    "![](3.attach_files/TF-IDF.png)\n",
    "\n",
    "There are several variants on the definition of term frequency and document frequency. In MLlib, we separate TF and IDF to make them flexible.\n",
    "\n",
    "TF: Both HashingTF and CountVectorizer can be used to generate the term frequency vectors.\n",
    "\n",
    "HashingTF is a Transformer which takes sets of terms and converts those sets into fixed-length feature vectors. In text processing, a \"set of terms\" might be a bag of words. HashingTF utilizes the hashing trick. A raw feature is mapped into an index (term) by applying a hash function. The hash function used here is MurmurHash 3. Then term frequencies are calculated based on the mapped indices. This approach avoids the need to compute a global term-to-index map, which can be expensive for a large corpus, but it suffers from potential hash collisions, where different raw features may become the same term after hashing. To reduce the chance of collision, we can increase the target feature dimension, i.e. the number of buckets of the hash table. Since a simple modulo is used to transform the hash function to a column index, it is advisable to use a power of two as the feature dimension, otherwise the features will not be mapped evenly to the columns. The default feature dimension is 2^18=262,144. An optional binary toggle parameter controls term frequency counts. When set to true all nonzero frequency counts are set to 1. This is especially useful for discrete probabilistic models that model binary, rather than integer, counts.\n",
    "\n",
    "CountVectorizer converts text documents to vectors of term counts.\n",
    "\n",
    "IDF: IDF is an Estimator which is fit on a dataset and produces an IDFModel. The IDFModel takes feature vectors (generally created from HashingTF or CountVectorizer) and scales each column. Intuitively, it down-weights columns which appear frequently in a corpus.\n",
    "\n",
    "Note: spark.ml doesn't provide tools for text segmentation. We refer users to the Stanford NLP Group and scalanlp/chalk.\n",
    "\n",
    "### Examples\n",
    "\n",
    "In the following code segment, we start with a set of sentences. We split each sentence into words using Tokenizer. For each sentence (bag of words), we use HashingTF to hash the sentence into a feature vector. We use IDF to rescale the feature vectors; this generally improves performance when using text as features. Our feature vectors could then be passed to a learning algorithm.\n",
    "\n",
    "Refer to the HashingTF Python docs and the IDF Python docs for more details on the API."
   ]
  },
  {
   "cell_type": "code",
   "execution_count": null,
   "metadata": {
    "collapsed": true
   },
   "outputs": [],
   "source": [
    "from __future__ import print_function\n",
    "\n",
    "from pyspark.ml.feature import HashingTF, IDF, Tokenizer\n",
    "%matplotlib inline\n",
    "\n",
    "sentenceData = spark.createDataFrame([\n",
    "        (0, \"Hi I heard about Spark\"),\n",
    "        (0, \"I wish Java could use case classes\"),\n",
    "        (1, \"Logistic regression models are neat\")\n",
    "    ], [\"label\", \"sentence\"])\n",
    "tokenizer = Tokenizer(inputCol=\"sentence\", outputCol=\"words\")\n",
    "wordsData = tokenizer.transform(sentenceData)\n",
    "hashingTF = HashingTF(inputCol=\"words\", outputCol=\"rawFeatures\", numFeatures=20)\n",
    "featurizedData = hashingTF.transform(wordsData)\n",
    "# alternatively, CountVectorizer can also be used to get term frequency vectors\n",
    "\n",
    "idf = IDF(inputCol=\"rawFeatures\", outputCol=\"features\")\n",
    "idfModel = idf.fit(featurizedData)\n",
    "rescaledData = idfModel.transform(featurizedData)\n",
    "for features_label in rescaledData.select(\"features\", \"label\").take(3):\n",
    "    print(features_label)"
   ]
  },
  {
   "cell_type": "markdown",
   "metadata": {},
   "source": [
    "## Word2Vec\n",
    "\n",
    "Word2Vec is an Estimator which takes sequences of words representing documents and trains a Word2VecModel. The model maps each word to a unique fixed-size vector. The Word2VecModel transforms each document into a vector using the average of all words in the document; this vector can then be used as features for prediction, document similarity calculations, etc.\n",
    "\n",
    "In the following code segment, we start with a set of documents, each of which is represented as a sequence of words. For each document, we transform it into a feature vector. This feature vector could then be passed to a learning algorithm.\n",
    "\n",
    "Refer to the Word2Vec Python docs for more details on the API."
   ]
  },
  {
   "cell_type": "code",
   "execution_count": null,
   "metadata": {
    "collapsed": true
   },
   "outputs": [],
   "source": [
    "from __future__ import print_function\n",
    "\n",
    "from pyspark.ml.feature import Word2Vec\n",
    "%matplotlib inline\n",
    "\n",
    "# Input data: Each row is a bag of words from a sentence or document.\n",
    "documentDF = spark.createDataFrame([\n",
    "        (\"Hi I heard about Spark\".split(\" \"), ),\n",
    "        (\"I wish Java could use case classes\".split(\" \"), ),\n",
    "        (\"Logistic regression models are neat\".split(\" \"), )\n",
    "    ], [\"text\"])\n",
    "# Learn a mapping from words to Vectors.\n",
    "word2Vec = Word2Vec(vectorSize=3, minCount=0, inputCol=\"text\", outputCol=\"result\")\n",
    "model = word2Vec.fit(documentDF)\n",
    "result = model.transform(documentDF)\n",
    "for feature in result.select(\"result\").take(3):\n",
    "    print(feature)"
   ]
  },
  {
   "cell_type": "markdown",
   "metadata": {},
   "source": [
    "## CountVectorizer\n",
    "\n",
    "CountVectorizer and CountVectorizerModel aim to help convert a collection of text documents to vectors of token counts. When an a-priori dictionary is not available, CountVectorizer can be used as an Estimator to extract the vocabulary, and generates a CountVectorizerModel. The model produces sparse representations for the documents over the vocabulary, which can then be passed to other algorithms like LDA.\n",
    "\n",
    "During the fitting process, CountVectorizer will select the top vocabSize words ordered by term frequency across the corpus. An optional parameter minDF also affects the fitting process by specifying the minimum number (or fraction if < 1.0) of documents a term must appear in to be included in the vocabulary. Another optional binary toggle parameter controls the output vector. If set to true all nonzero counts are set to 1. This is especially useful for discrete probabilistic models that model binary, rather than integer, counts.\n",
    "\n",
    "### Examples\n",
    "\n",
    "Assume that we have the following DataFrame with columns id and texts:\n",
    "\n",
    "```\n",
    " id | texts\n",
    "----|----------\n",
    " 0  | Array(\"a\", \"b\", \"c\")\n",
    " 1  | Array(\"a\", \"b\", \"b\", \"c\", \"a\")\n",
    "```\n",
    "\n",
    "each row in texts is a document of type Array[String]. Invoking fit of CountVectorizer produces a CountVectorizerModel with vocabulary (a, b, c). Then the output column \"vector\" after transformation contains:\n",
    "\n",
    "```\n",
    " id | texts                           | vector\n",
    "----|---------------------------------|---------------\n",
    " 0  | Array(\"a\", \"b\", \"c\")            | (3,[0,1,2],[1.0,1.0,1.0])\n",
    " 1  | Array(\"a\", \"b\", \"b\", \"c\", \"a\")  | (3,[0,1,2],[2.0,2.0,1.0])\n",
    "```\n",
    "\n",
    "Each vector represents the token counts of the document over the vocabulary.\n",
    "\n",
    "Refer to the CountVectorizer Python docs and the CountVectorizerModel Python docs for more details on the API."
   ]
  },
  {
   "cell_type": "code",
   "execution_count": null,
   "metadata": {
    "collapsed": true
   },
   "outputs": [],
   "source": [
    "from __future__ import print_function\n",
    "\n",
    "from pyspark.ml.feature import CountVectorizer\n",
    "%matplotlib inline\n",
    "\n",
    "# Input data: Each row is a bag of words with a ID.\n",
    "df = spark.createDataFrame([\n",
    "        (0, \"a b c\".split(\" \")),\n",
    "        (1, \"a b b c a\".split(\" \"))\n",
    "    ], [\"id\", \"words\"])\n",
    "\n",
    "# fit a CountVectorizerModel from the corpus.\n",
    "cv = CountVectorizer(inputCol=\"words\", outputCol=\"features\", vocabSize=3, minDF=2.0)\n",
    "model = cv.fit(df)\n",
    "result = model.transform(df)\n",
    "result.show()"
   ]
  },
  {
   "cell_type": "markdown",
   "metadata": {},
   "source": [
    "# Feature Transformers\n",
    "\n",
    "## Tokenizer\n",
    "\n",
    "Tokenization is the process of taking text (such as a sentence) and breaking it into individual terms (usually words). A simple Tokenizer class provides this functionality. The example below shows how to split sentences into sequences of words.\n",
    "\n",
    "RegexTokenizer allows more advanced tokenization based on regular expression (regex) matching. By default, the parameter \"pattern\" (regex, default: \"\\\\s+\") is used as delimiters to split the input text. Alternatively, users can set parameter \"gaps\" to false indicating the regex \"pattern\" denotes \"tokens\" rather than splitting gaps, and find all matching occurrences as the tokenization result.\n",
    "\n",
    "Refer to the Tokenizer Python docs and the RegexTokenizer Python docs for more details on the API."
   ]
  },
  {
   "cell_type": "code",
   "execution_count": null,
   "metadata": {
    "collapsed": true
   },
   "outputs": [],
   "source": [
    "from __future__ import print_function\n",
    "\n",
    "from pyspark.ml.feature import Tokenizer, RegexTokenizer\n",
    "%matplotlib inline\n",
    "\n",
    "sentenceDataFrame = spark.createDataFrame([\n",
    "        (0, \"Hi I heard about Spark\"),\n",
    "        (1, \"I wish Java could use case classes\"),\n",
    "        (2, \"Logistic,regression,models,are,neat\")\n",
    "    ], [\"label\", \"sentence\"])\n",
    "tokenizer = Tokenizer(inputCol=\"sentence\", outputCol=\"words\")\n",
    "wordsDataFrame = tokenizer.transform(sentenceDataFrame)\n",
    "for words_label in wordsDataFrame.select(\"words\", \"label\").take(3):\n",
    "    print(words_label)\n",
    "regexTokenizer = RegexTokenizer(inputCol=\"sentence\", outputCol=\"words\", pattern=\"\\\\W\")\n",
    "# alternatively, pattern=\"\\\\w+\", gaps(False)"
   ]
  },
  {
   "cell_type": "markdown",
   "metadata": {},
   "source": [
    "## StopWordsRemover\n",
    "\n",
    "Stop words are words which should be excluded from the input, typically because the words appear frequently and don't carry as much meaning.\n",
    "\n",
    "StopWordsRemover takes as input a sequence of strings (e.g. the output of a Tokenizer) and drops all the stop words from the input sequences. The list of stopwords is specified by the stopWords parameter. Default stop words for some languages are accessible by calling StopWordsRemover.loadDefaultStopWords(language), for which available options are \"danish\", \"dutch\", \"english\", \"finnish\", \"german\", \"hungarian\", \"italian\", \"norwegian\", \"portuguese\", \"russian\", \"spanish\", \"swedish\" and \"turkish\". A boolean parameter caseSensitive indicates if the matches should be case sensitive (false by default).\n",
    "\n",
    "### Examples\n",
    "\n",
    "Assume that we have the following DataFrame with columns id and raw:\n",
    "\n",
    "```\n",
    " id | raw\n",
    "----|----------\n",
    " 0  | [I, saw, the, red, baloon]\n",
    " 1  | [Mary, had, a, little, lamb]\n",
    "```\n",
    "\n",
    "Applying StopWordsRemover with raw as the input column and filtered as the output column, we should get the following:\n",
    "\n",
    "```\n",
    " id | raw                         | filtered\n",
    "----|-----------------------------|--------------------\n",
    " 0  | [I, saw, the, red, baloon]  |  [saw, red, baloon]\n",
    " 1  | [Mary, had, a, little, lamb]|[Mary, little, lamb]\n",
    "```\n",
    "\n",
    "In filtered, the stop words \"I\", \"the\", \"had\", and \"a\" have been filtered out.\n",
    "\n",
    "Refer to the StopWordsRemover Python docs for more details on the API."
   ]
  },
  {
   "cell_type": "code",
   "execution_count": null,
   "metadata": {
    "collapsed": true
   },
   "outputs": [],
   "source": [
    "from __future__ import print_function\n",
    "\n",
    "from pyspark.ml.feature import StopWordsRemover\n",
    "%matplotlib inline\n",
    "\n",
    "sentenceData = spark.createDataFrame([\n",
    "        (0, [\"I\", \"saw\", \"the\", \"red\", \"ballon\"]),\n",
    "        (1, [\"Mary\", \"had\", \"a\", \"little\", \"lamb\"])\n",
    "    ], [\"label\", \"raw\"])\n",
    "\n",
    "remover = StopWordsRemover(inputCol=\"raw\", outputCol=\"filtered\")\n",
    "remover.transform(sentenceData).show(truncate=False)"
   ]
  }
 ],
 "metadata": {
  "kernelspec": {
   "display_name": "Python 2",
   "language": "python",
   "name": "python2"
  },
  "language_info": {
   "codemirror_mode": {
    "name": "ipython",
    "version": 2
   },
   "file_extension": ".py",
   "mimetype": "text/x-python",
   "name": "python",
   "nbconvert_exporter": "python",
   "pygments_lexer": "ipython2",
   "version": "2.7.9"
  }
 },
 "nbformat": 4,
 "nbformat_minor": 1
}
