{
 "cells": [
  {
   "cell_type": "markdown",
   "metadata": {},
   "source": [
    "# Machine Learning Library (MLlib) Guide\n",
    "\n",
    "MLlib is Spark's machine learning (ML) library. Its goal is to make practical machine learning scalable and easy. At a high level, it provides tools such as:\n",
    "\n",
    "* ML Algorithms: common learning algorithms such as classification, regression, clustering, and collaborative filtering\n",
    "* Featurization: feature extraction, transformation, dimensionality reduction, and selection\n",
    "* Pipelines: tools for constructing, evaluating, and tuning ML Pipelines\n",
    "* Persistence: saving and load algorithms, models, and Pipelines\n",
    "* Utilities: linear algebra, statistics, data handling, etc.\n",
    "\n",
    "# Announcement: DataFrame-based API is primary API\n",
    "\n",
    "The MLlib RDD-based API is now in maintenance mode.\n",
    "\n",
    "As of Spark 2.0, the RDD-based APIs in the spark.mllib package have entered maintenance mode. The primary Machine Learning API for Spark is now the DataFrame-based API in the spark.ml package.\n",
    "\n",
    "What are the implications?\n",
    "\n",
    "* MLlib will still support the RDD-based API in spark.mllib with bug fixes.\n",
    "* MLlib will not add new features to the RDD-based API.\n",
    "* In the Spark 2.x releases, MLlib will add features to the DataFrames-based API to reach feature parity with the RDD-based API.\n",
    "* After reaching feature parity (roughly estimated for Spark 2.2), the RDD-based API will be deprecated.\n",
    "* The RDD-based API is expected to be removed in Spark 3.0.\n",
    "\n",
    "Why is MLlib switching to the DataFrame-based API?\n",
    "\n",
    "* DataFrames provide a more user-friendly API than RDDs. The many benefits of DataFrames include Spark Datasources, SQL/DataFrame queries, Tungsten and Catalyst optimizations, and uniform APIs across languages.\n",
    "* The DataFrame-based API for MLlib provides a uniform API across ML algorithms and across multiple languages.\n",
    "* DataFrames facilitate practical ML Pipelines, particularly feature transformations.\n",
    "\n",
    "# Dependencies\n",
    "\n",
    "MLlib uses the linear algebra package Breeze, which depends on netlib-java for optimised numerical processing. If native libraries are not available at runtime, you will see a warning message and a pure JVM implementation will be used instead.\n",
    "\n",
    "Due to licensing issues with runtime proprietary binaries, we do not include netlib-java's native proxies by default. To configure netlib-java / Breeze to use system optimised binaries, include com.github.fommil.netlib:all:1.1.2 (or build Spark with -Pnetlib-lgpl) as a dependency of your project and read the netlib-java documentation for your platform's additional installation instructions.\n",
    "\n",
    "To use MLlib in Python, you will need NumPy version 1.4 or newer."
   ]
  }
 ],
 "metadata": {
  "kernelspec": {
   "display_name": "Python 2",
   "language": "python",
   "name": "python2"
  },
  "language_info": {
   "codemirror_mode": {
    "name": "ipython",
    "version": 2
   },
   "file_extension": ".py",
   "mimetype": "text/x-python",
   "name": "python",
   "nbconvert_exporter": "python",
   "pygments_lexer": "ipython2",
   "version": "2.7.9"
  }
 },
 "nbformat": 4,
 "nbformat_minor": 1
}
